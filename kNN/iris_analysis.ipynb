{
 "cells": [
  {
   "cell_type": "code",
   "execution_count": null,
   "id": "751c7de4",
   "metadata": {
    "scrolled": true
   },
   "outputs": [],
   "source": [
    "import pandas as pd\n",
    "import seaborn as sns\n",
    "import matplotlib.pyplot as plt\n",
    "import kNN_modules\n",
    "import random\n",
    "\n",
    "plt.style.use('dark_background')",
    "\n",
    "# Walkthrough Video Link: https://www.youtube.com/watch?v=mpfU9n4MzBE"
   ]
  },
  {
   "cell_type": "code",
   "execution_count": null,
   "id": "427d4094",
   "metadata": {},
   "outputs": [],
   "source": [
    "df = pd.read_csv('Iris.csv')\n",
    "df_setosa = df.loc[df['Species'] == \"Iris-setosa\"]\n",
    "df_virginica = df.loc[df['Species'] == \"Iris-virginica\"]\n",
    "df_versicolor = df.loc[df['Species'] == \"Iris-versicolor\"]\n",
    "df.head()"
   ]
  },
  {
   "cell_type": "code",
   "execution_count": null,
   "id": "c6c03b91",
   "metadata": {},
   "outputs": [],
   "source": [
    "fig = plt.figure(figsize = (10,8))\n",
    "ax = fig.add_subplot(111, projection = '3d')\n",
    "ax.set_xlabel(\"Sepal Length / cm\")\n",
    "ax.set_ylabel(\"Petal Length / cm\")\n",
    "ax.set_zlabel(\"Petal Width / cm\")\n",
    "ax.grid(False)\n",
    "\n",
    "x, x1, x2 = df_setosa['SepalLengthCm'], df_versicolor['SepalLengthCm'], df_virginica['SepalLengthCm']\n",
    "y, y1, y2 = df_setosa['PetalLengthCm'], df_versicolor['PetalLengthCm'], df_virginica['PetalLengthCm']\n",
    "z, z1, z2 = df_setosa['PetalWidthCm'], df_versicolor['PetalWidthCm'], df_virginica['PetalWidthCm']\n",
    "\n",
    "ax.scatter3D(x, y, z, s=50, color='azure') # Setosa\n",
    "ax.scatter3D(x1, y1, z1, s=50, color='cyan') # Versicolor\n",
    "ax.scatter3D(x2, y2, z2, s=50, color='navy') # Virginica\n",
    "plt.show()"
   ]
  },
  {
   "cell_type": "code",
   "execution_count": null,
   "id": "94070513",
   "metadata": {},
   "outputs": [],
   "source": [
    "\"\"\"\n",
    "Need to prepare the data for our KNN algorithm.\n",
    "x = Sepal Length, y = Petal Length, z = Petal Width.\n",
    "We want a list of known inputs as [x, y, z] and the known outputs as numbers.\n",
    "At present the outputs are Iris-setosa, Iris-versicolor and Iris-virginica.\n",
    "We want to change this to 1, 2 and 3 respectively.\n",
    "\"\"\"\n",
    "\n",
    "known_inputs = []\n",
    "known_outputs = []\n",
    "species_to_number = {'Iris-setosa': 1, 'Iris-versicolor': 2, 'Iris-virginica':3}\n",
    "\n",
    "for index, row in df.iterrows():\n",
    "    known_inputs.append([row['SepalLengthCm'], row['PetalLengthCm'], row['PetalWidthCm']])\n",
    "    known_outputs.append(species_to_number[row['Species']])\n",
    "\n",
    "print(known_inputs[0:5])\n",
    "print(known_outputs[0:5])"
   ]
  },
  {
   "cell_type": "code",
   "execution_count": null,
   "id": "ae076308",
   "metadata": {},
   "outputs": [],
   "source": [
    "sepal_length = 7.0\n",
    "petal_length = 6.0\n",
    "petal_width = 2.0\n",
    "\n",
    "fig = plt.figure(figsize = (10,8))\n",
    "ax = fig.add_subplot(111, projection = '3d')\n",
    "ax.set_xlabel(\"Sepal Length / cm\")\n",
    "ax.set_ylabel(\"Petal Length / cm\")\n",
    "ax.set_zlabel(\"Petal Width / cm\")\n",
    "ax.grid(False)\n",
    "\n",
    "x, x1, x2 = df_setosa['SepalLengthCm'], df_versicolor['SepalLengthCm'], df_virginica['SepalLengthCm']\n",
    "y, y1, y2 = df_setosa['PetalLengthCm'], df_versicolor['PetalLengthCm'], df_virginica['PetalLengthCm']\n",
    "z, z1, z2 = df_setosa['PetalWidthCm'], df_versicolor['PetalWidthCm'], df_virginica['PetalWidthCm']\n",
    "x3, y3, z3 = sepal_length, petal_length, petal_width\n",
    "\n",
    "ax.scatter3D(x, y, z, s=50, color='azure') # Setosa\n",
    "ax.scatter3D(x1, y1, z1, s=50, color='cyan') # Versicolor\n",
    "ax.scatter3D(x2, y2, z2, s=50, color='navy') # Virginica\n",
    "ax.scatter3D(x3, y3, z3, s=50, color='red') # Test Point\n",
    "plt.show()"
   ]
  },
  {
   "cell_type": "code",
   "execution_count": null,
   "id": "bfe97403",
   "metadata": {},
   "outputs": [],
   "source": [
    "# Test kNN prediction.\n",
    "test = [x3, y3, z3]\n",
    "\n",
    "prediction = kNN_modules.KNN(test, known_inputs, known_outputs, 5, True)\n",
    "prediction"
   ]
  },
  {
   "cell_type": "code",
   "execution_count": null,
   "id": "3bdd067f",
   "metadata": {},
   "outputs": [],
   "source": [
    "# Making a 3D map of points for the kNN algorithm domains.\n",
    "setosa_x, setosa_y, setosa_z = [], [], []\n",
    "versicolor_x, versicolor_y, versicolor_z = [], [], []\n",
    "virginica_x, virginica_y, virginica_z = [], [], []\n",
    "\n",
    "xs = [4.0 + (0.2 * x) for x in range(0, 21)]\n",
    "ys = [1.0 + (0.2 * y) for y in range(0, 31)]\n",
    "zs = [0.0 + (0.1 * z) for z in range(0, 26)]\n",
    "\n",
    "for x in xs:\n",
    "    for y in ys:\n",
    "        for z in zs:\n",
    "            prediction = kNN_modules.KNN([x, y, z], known_inputs, known_outputs, 5)\n",
    "            if prediction == 1:\n",
    "                setosa_x.append(x)\n",
    "                setosa_y.append(y)\n",
    "                setosa_z.append(z)\n",
    "            elif prediction == 2:\n",
    "                versicolor_x.append(x)\n",
    "                versicolor_y.append(y)\n",
    "                versicolor_z.append(z)\n",
    "            elif prediction == 3:\n",
    "                virginica_x.append(x)\n",
    "                virginica_y.append(y)\n",
    "                virginica_z.append(z)"
   ]
  },
  {
   "cell_type": "code",
   "execution_count": null,
   "id": "8c19860b",
   "metadata": {},
   "outputs": [],
   "source": [
    "fig = plt.figure(figsize = (10,8))\n",
    "ax = fig.add_subplot(111, projection = '3d')\n",
    "ax.set_xlabel(\"Sepal Length / cm\")\n",
    "ax.set_ylabel(\"Petal Length / cm\")\n",
    "ax.set_zlabel(\"Petal Width / cm\")\n",
    "ax.grid(False)\n",
    "\n",
    "ax.scatter3D(setosa_x, setosa_y, setosa_z, s=10, color='azure') # Setosa\n",
    "#ax.scatter3D(versicolor_x, versicolor_y, versicolor_z, s=10, color='cyan') # Versicolor\n",
    "ax.scatter3D(virginica_x, virginica_y, virginica_z, s=10, color='navy') # Virginica\n",
    "plt.show()"
   ]
  },
  {
   "cell_type": "markdown",
   "id": "568a9a92",
   "metadata": {},
   "source": [
    "EXPLORING 4D DATA\n",
    "\n",
    "We can't use 3D graphs to visualise our data very easily."
   ]
  },
  {
   "cell_type": "code",
   "execution_count": null,
   "id": "1d75311b",
   "metadata": {},
   "outputs": [],
   "source": [
    "known_inputs_4D = []\n",
    "\n",
    "for index, row in df.iterrows():\n",
    "    known_inputs_4D.append([row['SepalLengthCm'], row['SepalWidthCm'], row['PetalLengthCm'], row['PetalWidthCm']])\n",
    "\n",
    "print(known_inputs_4D[0:5])"
   ]
  },
  {
   "cell_type": "code",
   "execution_count": null,
   "id": "782a0d18",
   "metadata": {},
   "outputs": [],
   "source": [
    "# Accuracy Function - take a test set and perform prediction, comparing to a known output and will return a percentage accuracy.\n",
    "def accuracy(test_inputs, test_outputs, train_inputs, train_outputs, k_value):\n",
    "    count = 0\n",
    "    for index, test in enumerate(test_inputs):\n",
    "        if kNN_modules.KNN(test, train_inputs, train_outputs, k_value) == test_outputs[index]:\n",
    "            count += 1\n",
    "    return (count / len(test_inputs)) * 100\n",
    "\n",
    "# A function to create the test and train sets.\n",
    "def test_train(full_inputs, full_outputs, percent_test):\n",
    "    test_inputs, test_outputs, train_inputs, train_outputs = [], [], [], []\n",
    "    \n",
    "    number_test = int((len(full_inputs) / 100) * percent_test)\n",
    "    random_indices = random.sample(range(0, len(full_inputs)), number_test)\n",
    "    for index, item in enumerate(full_inputs):\n",
    "        if index in random_indices:\n",
    "            test_inputs.append(item)\n",
    "            test_outputs.append(full_outputs[index])\n",
    "        else:\n",
    "            train_inputs.append(item)\n",
    "            train_outputs.append(full_outputs[index])\n",
    "    return test_inputs, test_outputs, train_inputs, train_outputs"
   ]
  },
  {
   "cell_type": "code",
   "execution_count": null,
   "id": "3365d9d3",
   "metadata": {},
   "outputs": [],
   "source": [
    "# Get the test and train sets.\n",
    "test_inputs, test_outputs, train_inputs, train_outputs = test_train(known_inputs_4D, known_outputs, 30)\n",
    "print(test_inputs[0:5])\n",
    "print(test_outputs[0:5])\n",
    "print(train_inputs[0:5])\n",
    "print(train_outputs[0:5])"
   ]
  },
  {
   "cell_type": "code",
   "execution_count": null,
   "id": "711475fb",
   "metadata": {},
   "outputs": [],
   "source": [
    "# Test accuracy of the kNN algorithm.\n",
    "acc = accuracy(test_inputs, test_outputs, train_inputs, train_outputs, 5)\n",
    "acc"
   ]
  },
  {
   "cell_type": "code",
   "execution_count": null,
   "id": "14ed18f5",
   "metadata": {},
   "outputs": [],
   "source": [
    "# Can we optimise to find the best k-value?\n",
    "k_list = []\n",
    "accuracy_list = []\n",
    "index_list = []\n",
    "\n",
    "count = 0\n",
    "for i in range(0, 30):\n",
    "    test_inputs, test_outputs, train_inputs, train_outputs = test_train(known_inputs_4D, known_outputs, 30)\n",
    "    for k in range(1, 16):\n",
    "        acc = accuracy(test_inputs, test_outputs, train_inputs, train_outputs, k)\n",
    "        k_list.append(k)\n",
    "        accuracy_list.append(acc)\n",
    "        index_list.append(count)\n",
    "        count += 1\n",
    "\n",
    "k_values = pd.Series(data=k_list, index=index_list)\n",
    "accuracy_raw = pd.Series(data=accuracy_list, index=index_list)\n",
    "ka_dict = {\"k-value\":k_values, \"accuracy\":accuracy_raw}\n",
    "ka = pd.DataFrame(ka_dict)"
   ]
  },
  {
   "cell_type": "code",
   "execution_count": null,
   "id": "67d51c92",
   "metadata": {},
   "outputs": [],
   "source": [
    "ka.head()"
   ]
  },
  {
   "cell_type": "code",
   "execution_count": null,
   "id": "9af5e55f",
   "metadata": {},
   "outputs": [],
   "source": [
    "sns.lineplot(data=ka, x=\"k-value\", y=\"accuracy\")"
   ]
  }
 ],
 "metadata": {
  "kernelspec": {
   "display_name": "Python 3 (ipykernel)",
   "language": "python",
   "name": "python3"
  },
  "language_info": {
   "codemirror_mode": {
    "name": "ipython",
    "version": 3
   },
   "file_extension": ".py",
   "mimetype": "text/x-python",
   "name": "python",
   "nbconvert_exporter": "python",
   "pygments_lexer": "ipython3",
   "version": "3.10.4"
  }
 },
 "nbformat": 4,
 "nbformat_minor": 5
}
